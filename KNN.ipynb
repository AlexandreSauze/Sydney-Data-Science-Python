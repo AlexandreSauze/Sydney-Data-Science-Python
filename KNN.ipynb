{
  "nbformat": 4,
  "nbformat_minor": 0,
  "metadata": {
    "colab": {
      "provenance": [],
      "authorship_tag": "ABX9TyPJNAHaSIyzMOkdDNWKxNef",
      "include_colab_link": true
    },
    "kernelspec": {
      "name": "python3",
      "display_name": "Python 3"
    },
    "language_info": {
      "name": "python"
    }
  },
  "cells": [
    {
      "cell_type": "markdown",
      "metadata": {
        "id": "view-in-github",
        "colab_type": "text"
      },
      "source": [
        "<a href=\"https://colab.research.google.com/github/AlexandreSauze/Sydney-Data-Science-Python/blob/main/KNN.ipynb\" target=\"_parent\"><img src=\"https://colab.research.google.com/assets/colab-badge.svg\" alt=\"Open In Colab\"/></a>"
      ]
    },
    {
      "cell_type": "code",
      "execution_count": null,
      "metadata": {
        "id": "rZCjBkuTZ7RU"
      },
      "outputs": [],
      "source": [
        "import pandas as pd\n",
        "from math import sqrt\n",
        "from sklearn import metrics\n",
        "from sklearn import neighbors\n",
        "from sklearn.model_selection import train_test_split\n",
        "from tabulate import tabulate\n",
        "from numpy.core.fromnumeric import mean"
      ]
    },
    {
      "cell_type": "code",
      "source": [
        "df = pd.read_csv('SDG_goal3_clean.csv')\n",
        "X = df[list(df.columns)[3:]]      # slice dataFrame for input variables\n",
        "y = df['Region']        # slice dataFrame for target variable\n",
        "# Data Split\n",
        "X_train, X_test, y_train, y_test = train_test_split(X, y, test_size=0.3, random_state=1201) # 70% training 30% test"
      ],
      "metadata": {
        "id": "MwZAfw6w0lMO"
      },
      "execution_count": null,
      "outputs": []
    },
    {
      "cell_type": "code",
      "source": [
        "# We choose 4 neighbours to get a better result\n",
        "neigh = neighbors.KNeighborsClassifier(n_neighbors=4).fit(X_train, y_train)"
      ],
      "metadata": {
        "id": "8ymL5KDkN1_a"
      },
      "execution_count": null,
      "outputs": []
    },
    {
      "cell_type": "code",
      "source": [
        "# We will use row 150 as a sample\n",
        "sample = list(df.iloc[150][3:])        # We use row 150 of the dataframe to confirm\n",
        "sample_pred = neigh.predict([sample])\n",
        "print('----- Sample case -----')\n",
        "print('Original Region:', df.iloc[150][2])\n",
        "print('Predicted Region:', sample_pred[0])\n",
        "print('-----------------------')"
      ],
      "metadata": {
        "colab": {
          "base_uri": "https://localhost:8080/"
        },
        "id": "DjzYzuM2yC2T",
        "outputId": "65b0f56d-615a-4e5a-a67c-1058f1dc9f18"
      },
      "execution_count": null,
      "outputs": [
        {
          "output_type": "stream",
          "name": "stdout",
          "text": [
            "----- Sample case -----\n",
            "Original Region: Europe\n",
            "Predicted Region: Europe\n",
            "-----------------------\n"
          ]
        },
        {
          "output_type": "stream",
          "name": "stderr",
          "text": [
            "/usr/local/lib/python3.7/dist-packages/sklearn/base.py:451: UserWarning: X does not have valid feature names, but KNeighborsClassifier was fitted with feature names\n",
            "  \"X does not have valid feature names, but\"\n"
          ]
        }
      ]
    },
    {
      "cell_type": "code",
      "source": [
        "# Use the model to predict X_test\n",
        "y_pred = neigh.predict(X_test)\n",
        "# Compare predicted values vs actual values\n",
        "print('Accuracy Score (Proportion):', metrics.accuracy_score(y_test, y_pred))"
      ],
      "metadata": {
        "colab": {
          "base_uri": "https://localhost:8080/"
        },
        "id": "ktrP4QinSocg",
        "outputId": "973ea1b0-088e-49f8-d29d-090e1a2aa67c"
      },
      "execution_count": null,
      "outputs": [
        {
          "output_type": "stream",
          "name": "stdout",
          "text": [
            "Accuracy Score (Proportion): 0.8367346938775511\n"
          ]
        }
      ]
    },
    {
      "cell_type": "code",
      "source": [
        "# Compare different k values with different seeds to simulate different events\n",
        "ks = [1,2,3,4,5,6,7,8,9,10]\n",
        "seeds = [1201,3063,4267,1560,1329]\n",
        "results = []\n",
        "columns= []\n",
        "tf = True\n",
        "c = 0\n",
        "for seed in seeds:\n",
        "  columns.append(seed)\n",
        "  for k in ks:\n",
        "    X_train, X_test, y_train, y_test = train_test_split(X, y, test_size=0.3, random_state=seed)\n",
        "    neigh = neighbors.KNeighborsClassifier(n_neighbors=k).fit(X_train, y_train)\n",
        "    y_pred = neigh.predict(X_test)\n",
        "    if tf:\n",
        "      results.append([metrics.accuracy_score(y_test, y_pred)])\n",
        "      tf = False\n",
        "    else:\n",
        "      results[c].append(metrics.accuracy_score(y_test, y_pred))\n",
        "  tf = True\n",
        "  c += 1\n",
        "\n",
        "columns.append(\"Average Accuracy\")\n",
        "av = {}\n",
        "tf = True\n",
        "for lis in results:\n",
        "  if tf:\n",
        "    c = 0\n",
        "    for v in lis:\n",
        "      av[c] = [v]\n",
        "      c += 1\n",
        "    tf = False\n",
        "  else:\n",
        "    c = 0\n",
        "    for v in lis:\n",
        "      av[c].append(v)\n",
        "      c += 1\n",
        "\n",
        "av\n",
        "best = []\n",
        "c = 0\n",
        "for s in av:\n",
        "  best.append(mean(av[c]))\n",
        "  c += 1\n",
        "results.append(best)\n",
        "\n",
        "print(tabulate(results, headers=column, tablefmt=\"fancy_grid\", showindex=columns))"
      ],
      "metadata": {
        "colab": {
          "base_uri": "https://localhost:8080/"
        },
        "id": "_1Z2dEXdQ9Vg",
        "outputId": "fdb00f3c-1b07-4dfc-ca99-652783f63cd7"
      },
      "execution_count": null,
      "outputs": [
        {
          "output_type": "stream",
          "name": "stdout",
          "text": [
            "╒══════════════════╤══════════╤══════════╤══════════╤══════════╤══════════╤══════════╤══════════╤══════════╤══════════╤══════════╕\n",
            "│                  │        1 │        2 │        3 │        4 │        5 │        6 │        7 │        8 │        9 │       10 │\n",
            "╞══════════════════╪══════════╪══════════╪══════════╪══════════╪══════════╪══════════╪══════════╪══════════╪══════════╪══════════╡\n",
            "│ 1201             │ 0.877551 │ 0.857143 │ 0.816327 │ 0.816327 │ 0.755102 │ 0.755102 │ 0.795918 │ 0.734694 │ 0.734694 │ 0.693878 │\n",
            "├──────────────────┼──────────┼──────────┼──────────┼──────────┼──────────┼──────────┼──────────┼──────────┼──────────┼──────────┤\n",
            "│ 3063             │ 0.897959 │ 0.857143 │ 0.877551 │ 0.897959 │ 0.897959 │ 0.938776 │ 0.897959 │ 0.918367 │ 0.897959 │ 0.897959 │\n",
            "├──────────────────┼──────────┼──────────┼──────────┼──────────┼──────────┼──────────┼──────────┼──────────┼──────────┼──────────┤\n",
            "│ 4267             │ 0.77551  │ 0.755102 │ 0.734694 │ 0.77551  │ 0.77551  │ 0.77551  │ 0.755102 │ 0.734694 │ 0.734694 │ 0.755102 │\n",
            "├──────────────────┼──────────┼──────────┼──────────┼──────────┼──────────┼──────────┼──────────┼──────────┼──────────┼──────────┤\n",
            "│ 1560             │ 0.755102 │ 0.795918 │ 0.816327 │ 0.816327 │ 0.816327 │ 0.795918 │ 0.795918 │ 0.795918 │ 0.816327 │ 0.77551  │\n",
            "├──────────────────┼──────────┼──────────┼──────────┼──────────┼──────────┼──────────┼──────────┼──────────┼──────────┼──────────┤\n",
            "│ 1329             │ 0.836735 │ 0.836735 │ 0.857143 │ 0.877551 │ 0.857143 │ 0.836735 │ 0.857143 │ 0.816327 │ 0.734694 │ 0.755102 │\n",
            "├──────────────────┼──────────┼──────────┼──────────┼──────────┼──────────┼──────────┼──────────┼──────────┼──────────┼──────────┤\n",
            "│ Average Accuracy │ 0.828571 │ 0.820408 │ 0.820408 │ 0.836735 │ 0.820408 │ 0.820408 │ 0.820408 │ 0.8      │ 0.783673 │ 0.77551  │\n",
            "╘══════════════════╧══════════╧══════════╧══════════╧══════════╧══════════╧══════════╧══════════╧══════════╧══════════╧══════════╛\n"
          ]
        }
      ]
    }
  ]
}